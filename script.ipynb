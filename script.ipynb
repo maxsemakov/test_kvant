{
 "cells": [
  {
   "cell_type": "code",
   "execution_count": 2,
   "metadata": {},
   "outputs": [],
   "source": [
    "import os\n",
    "os.environ[\"KERAS_BACKEND\"] = \"tensorflow\"  # you can also use jax, tensorflow or torch\n",
    "\n",
    "\n",
    "import keras_cv\n",
    "import keras\n",
    "#from tensorflow import keras\n",
    "from keras import ops\n",
    "import tensorflow as tf\n",
    "from PIL import Image\n",
    "import numpy as np"
   ]
  },
  {
   "cell_type": "code",
   "execution_count": null,
   "metadata": {},
   "outputs": [],
   "source": [
    "LABEL2NAME = {0: 'BrassMono-BoldItalic',\n",
    " 1: 'GhastlyPanicCyr',\n",
    " 2: 'ambidexter_regular',\n",
    " 3: 'GaneshaType-Regular',\n",
    " 4: 'AlumniSansCollegiateOne-Italic',\n",
    " 5: 'AlumniSansCollegiateOne-Regular',\n",
    " 6: 'BrassMono-Italic',\n",
    " 7: 'better-vcr-5.2',\n",
    " 8: 'ArefRuqaaInk-Bold',\n",
    " 9: 'Aguante-Regular',\n",
    " 10: 'BrassMono-Bold',\n",
    " 11: 'ArefRuqaaInk-Regular',\n",
    " 12: 'Realest-Extended',\n",
    " 13: 'BrassMono-Regular',\n",
    " 14: 'TanaUncialSP'}"
   ]
  },
  {
   "cell_type": "code",
   "execution_count": 155,
   "metadata": {},
   "outputs": [],
   "source": [
    "model_path = 'train_2nd/best_model.keras'"
   ]
  },
  {
   "cell_type": "code",
   "execution_count": 156,
   "metadata": {},
   "outputs": [],
   "source": [
    "def check_model_path(path):\n",
    "    if not path.endswith('.keras'):\n",
    "        print(\"Путь к модели должен оканчиваться на .keras\")\n",
    "        return False\n",
    "    return True"
   ]
  },
  {
   "cell_type": "code",
   "execution_count": 157,
   "metadata": {},
   "outputs": [],
   "source": [
    "def check_image_path(path):\n",
    "    if not any(path.endswith(ext) for ext in ['.jpg', '.jpeg', '.png']):\n",
    "        print(\"Путь к изображению должен оканчиваться на .jpg, .jpeg или .png\")\n",
    "        return False\n",
    "    return True\n"
   ]
  },
  {
   "cell_type": "code",
   "execution_count": null,
   "metadata": {},
   "outputs": [],
   "source": []
  },
  {
   "cell_type": "code",
   "execution_count": 158,
   "metadata": {},
   "outputs": [],
   "source": [
    "if check_model_path(model_path):\n",
    "    try:\n",
    "        model = keras.saving.load_model(model_path, custom_objects=None, compile=True, safe_mode=True)\n",
    "    except Exception as e:\n",
    "        print(e)"
   ]
  },
  {
   "cell_type": "code",
   "execution_count": 222,
   "metadata": {},
   "outputs": [],
   "source": [
    "image_path = 'test_rgb/Aguante-Regular/font_size_10_lines_9_40_rgb_512-inverse.png'"
   ]
  },
  {
   "cell_type": "code",
   "execution_count": 223,
   "metadata": {},
   "outputs": [
    {
     "name": "stdout",
     "output_type": "stream",
     "text": [
      "Image was loaded\n"
     ]
    }
   ],
   "source": [
    "if check_image_path(image_path):\n",
    "    try:\n",
    "        img = Image.open(image_path)\n",
    "        img_array = np.array(img)\n",
    "        print(\"Image was loaded\")\n",
    "    except Exception as e:\n",
    "        print(e)\n",
    "        print('Try more')\n"
   ]
  },
  {
   "cell_type": "code",
   "execution_count": 224,
   "metadata": {},
   "outputs": [
    {
     "name": "stdout",
     "output_type": "stream",
     "text": [
      "3 (256, 512, 3)\n"
     ]
    }
   ],
   "source": [
    "print(len(img_array.shape), img_array.shape)"
   ]
  },
  {
   "cell_type": "code",
   "execution_count": 225,
   "metadata": {},
   "outputs": [],
   "source": [
    "\n",
    "def prepare_image(img_array, target_size=(128, 256)):\n",
    "    # Проверьте, является ли изображение grayscale или rgb\n",
    "    if len(img_array.shape) == 2:\n",
    "        color_mode = 'grayscale'\n",
    "    elif len(img_array.shape) == 3:\n",
    "        color_mode = 'rgb'\n",
    "    else:\n",
    "        print(\"Неверный формат изображения\")\n",
    "        return None\n",
    "    # Если изображение в grayscale, преобразуйте его в rgb\n",
    "    if color_mode == 'grayscale':\n",
    "        img_array = np.tile(img_array[:, :, np.newaxis], (1, 1, 3))\n",
    "\n",
    "    # Нормализуйте значения пикселей к диапазону от 0 до 1 и приведите к типу float32\n",
    "    new_img = img_array.astype('float32') / 255.0\n",
    "\n",
    "    return new_img"
   ]
  },
  {
   "cell_type": "code",
   "execution_count": 226,
   "metadata": {},
   "outputs": [],
   "source": [
    "img_array = prepare_image(img_array)\n",
    "img_batch = np.expand_dims(img_array, axis=0)"
   ]
  },
  {
   "cell_type": "code",
   "execution_count": 227,
   "metadata": {},
   "outputs": [
    {
     "name": "stdout",
     "output_type": "stream",
     "text": [
      "\u001b[1m1/1\u001b[0m \u001b[32m━━━━━━━━━━━━━━━━━━━━\u001b[0m\u001b[37m\u001b[0m \u001b[1m1s\u001b[0m 1s/step\n"
     ]
    }
   ],
   "source": [
    "predict = model.predict(img_batch)"
   ]
  },
  {
   "cell_type": "code",
   "execution_count": 228,
   "metadata": {},
   "outputs": [
    {
     "data": {
      "text/plain": [
       "array([5.0281745e-08, 1.1376855e-08, 4.1253352e-07, 2.5750719e-11,\n",
       "       1.2239996e-04, 9.3098348e-01, 2.0892305e-11, 4.4301686e-08,\n",
       "       5.4945770e-07, 6.8892576e-02, 5.5561122e-07, 3.2943023e-11,\n",
       "       1.8574482e-08, 5.2265220e-11, 2.4752682e-09], dtype=float32)"
      ]
     },
     "execution_count": 228,
     "metadata": {},
     "output_type": "execute_result"
    }
   ],
   "source": [
    "predict[0]"
   ]
  },
  {
   "cell_type": "code",
   "execution_count": 229,
   "metadata": {},
   "outputs": [],
   "source": [
    "LABEL2NAME = {0: 'BrassMono-BoldItalic',\n",
    " 1: 'GhastlyPanicCyr',\n",
    " 2: 'ambidexter_regular',\n",
    " 3: 'GaneshaType-Regular',\n",
    " 4: 'AlumniSansCollegiateOne-Italic',\n",
    " 5: 'AlumniSansCollegiateOne-Regular',\n",
    " 6: 'BrassMono-Italic',\n",
    " 7: 'better-vcr-5.2',\n",
    " 8: 'ArefRuqaaInk-Bold',\n",
    " 9: 'Aguante-Regular',\n",
    " 10: 'BrassMono-Bold',\n",
    " 11: 'ArefRuqaaInk-Regular',\n",
    " 12: 'Realest-Extended',\n",
    " 13: 'BrassMono-Regular',\n",
    " 14: 'TanaUncialSP'}"
   ]
  },
  {
   "cell_type": "code",
   "execution_count": 230,
   "metadata": {},
   "outputs": [
    {
     "name": "stdout",
     "output_type": "stream",
     "text": [
      "AlumniSansCollegiateOne-Regular 0.9309835\n"
     ]
    }
   ],
   "source": [
    "print(LABEL2NAME[np.argmax(predict, axis=1)[0]], predict[0][np.argmax(predict, axis=1)[0]])\n"
   ]
  },
  {
   "cell_type": "code",
   "execution_count": null,
   "metadata": {},
   "outputs": [],
   "source": []
  }
 ],
 "metadata": {
  "kernelspec": {
   "display_name": "p311",
   "language": "python",
   "name": "python3"
  },
  "language_info": {
   "codemirror_mode": {
    "name": "ipython",
    "version": 3
   },
   "file_extension": ".py",
   "mimetype": "text/x-python",
   "name": "python",
   "nbconvert_exporter": "python",
   "pygments_lexer": "ipython3",
   "version": "3.11.6"
  }
 },
 "nbformat": 4,
 "nbformat_minor": 2
}
